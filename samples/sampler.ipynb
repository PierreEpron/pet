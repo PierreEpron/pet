{
 "cells": [
  {
   "cell_type": "markdown",
   "metadata": {},
   "source": [
    "# Imports"
   ]
  },
  {
   "cell_type": "code",
   "execution_count": 1,
   "metadata": {},
   "outputs": [],
   "source": [
    "from pathlib import Path\n",
    "import os\n",
    "import sys\n",
    "sys.path.append(str(Path(os.getcwd()).parent / 'middleware/middleware'))"
   ]
  },
  {
   "cell_type": "code",
   "execution_count": 2,
   "metadata": {},
   "outputs": [],
   "source": [
    "import pandas as pd\n",
    "from glob import glob\n",
    "from functools import reduce\n",
    "import random\n",
    "import re\n",
    "from src.pipelines.alpha import Alpha\n",
    "from src.helpers import correct_encoding, read_jsonl, write_jsonl\n",
    "from IPython.display import clear_output"
   ]
  },
  {
   "cell_type": "markdown",
   "metadata": {},
   "source": [
    "# Loading export"
   ]
  },
  {
   "cell_type": "code",
   "execution_count": 26,
   "metadata": {
    "scrolled": true
   },
   "outputs": [
    {
     "name": "stdout",
     "output_type": "stream",
     "text": [
      "<class 'pandas.core.frame.DataFrame'>\n",
      "RangeIndex: 41183 entries, 0 to 41182\n",
      "Data columns (total 10 columns):\n",
      " #   Column          Non-Null Count  Dtype \n",
      "---  ------          --------------  ----- \n",
      " 0   NUMERO_EXAMEN   41183 non-null  object\n",
      " 1   TYPE_EXAMEN     41183 non-null  object\n",
      " 2   LIBELLE_EXAMEN  41183 non-null  object\n",
      " 3   NUM_SALLE       41183 non-null  object\n",
      " 4   DATE_EXAMEN     41183 non-null  object\n",
      " 5   HEURE_EXAMEN    41183 non-null  object\n",
      " 6   COMPTE_RENDU    41183 non-null  object\n",
      " 7   year            41183 non-null  int64 \n",
      " 8   month           41183 non-null  int64 \n",
      " 9   cr_an           41183 non-null  object\n",
      "dtypes: int64(2), object(8)\n",
      "memory usage: 3.1+ MB\n"
     ]
    },
    {
     "data": {
      "text/html": [
       "<div>\n",
       "<style scoped>\n",
       "    .dataframe tbody tr th:only-of-type {\n",
       "        vertical-align: middle;\n",
       "    }\n",
       "\n",
       "    .dataframe tbody tr th {\n",
       "        vertical-align: top;\n",
       "    }\n",
       "\n",
       "    .dataframe thead th {\n",
       "        text-align: right;\n",
       "    }\n",
       "</style>\n",
       "<table border=\"1\" class=\"dataframe\">\n",
       "  <thead>\n",
       "    <tr style=\"text-align: right;\">\n",
       "      <th></th>\n",
       "      <th>NUMERO_EXAMEN</th>\n",
       "      <th>TYPE_EXAMEN</th>\n",
       "      <th>LIBELLE_EXAMEN</th>\n",
       "      <th>NUM_SALLE</th>\n",
       "      <th>DATE_EXAMEN</th>\n",
       "      <th>HEURE_EXAMEN</th>\n",
       "      <th>COMPTE_RENDU</th>\n",
       "      <th>year</th>\n",
       "      <th>month</th>\n",
       "      <th>cr_an</th>\n",
       "    </tr>\n",
       "  </thead>\n",
       "  <tbody>\n",
       "    <tr>\n",
       "      <th>0</th>\n",
       "      <td>A10836454533</td>\n",
       "      <td>MN</td>\n",
       "      <td>TEP CORPS ENTIER</td>\n",
       "      <td>MBPET1</td>\n",
       "      <td>04/01/16</td>\n",
       "      <td>08:01</td>\n",
       "      <td>Installation répertoriée sous le n° M540008 Au...</td>\n",
       "      <td>16</td>\n",
       "      <td>1</td>\n",
       "      <td>Installation répertoriée sous le n° M540008 Au...</td>\n",
       "    </tr>\n",
       "    <tr>\n",
       "      <th>1</th>\n",
       "      <td>A10887608918</td>\n",
       "      <td>MN</td>\n",
       "      <td>TEP CORPS ENTIER</td>\n",
       "      <td>MBPET1</td>\n",
       "      <td>04/01/16</td>\n",
       "      <td>14:52</td>\n",
       "      <td>Installation répertoriée sous le n° M540008 Au...</td>\n",
       "      <td>16</td>\n",
       "      <td>1</td>\n",
       "      <td>Installation répertoriée sous le n° M540008 Au...</td>\n",
       "    </tr>\n",
       "    <tr>\n",
       "      <th>2</th>\n",
       "      <td>A10890051978</td>\n",
       "      <td>MN</td>\n",
       "      <td>TEP CORPS ENTIER</td>\n",
       "      <td>MBPET1</td>\n",
       "      <td>04/01/16</td>\n",
       "      <td>14:44</td>\n",
       "      <td>Installation répertoriée sous le n° M540008 Au...</td>\n",
       "      <td>16</td>\n",
       "      <td>1</td>\n",
       "      <td>Installation répertoriée sous le n° M540008 Au...</td>\n",
       "    </tr>\n",
       "    <tr>\n",
       "      <th>3</th>\n",
       "      <td>A10883861577</td>\n",
       "      <td>MN</td>\n",
       "      <td>TEP CORPS ENTIER</td>\n",
       "      <td>MBPET1</td>\n",
       "      <td>04/01/16</td>\n",
       "      <td>11:11</td>\n",
       "      <td>Installation répertoriée sous le n° M540008 Au...</td>\n",
       "      <td>16</td>\n",
       "      <td>1</td>\n",
       "      <td>Installation répertoriée sous le n° M540008 Au...</td>\n",
       "    </tr>\n",
       "    <tr>\n",
       "      <th>4</th>\n",
       "      <td>A10893853897</td>\n",
       "      <td>MN</td>\n",
       "      <td>TEP CORPS ENTIER</td>\n",
       "      <td>MBPET1</td>\n",
       "      <td>04/01/16</td>\n",
       "      <td>15:29</td>\n",
       "      <td>Installation répertoriée sous le n° M540008 Au...</td>\n",
       "      <td>16</td>\n",
       "      <td>1</td>\n",
       "      <td>Installation répertoriée sous le n° M540008 Au...</td>\n",
       "    </tr>\n",
       "  </tbody>\n",
       "</table>\n",
       "</div>"
      ],
      "text/plain": [
       "  NUMERO_EXAMEN TYPE_EXAMEN    LIBELLE_EXAMEN NUM_SALLE DATE_EXAMEN  \\\n",
       "0  A10836454533          MN  TEP CORPS ENTIER    MBPET1    04/01/16   \n",
       "1  A10887608918          MN  TEP CORPS ENTIER    MBPET1    04/01/16   \n",
       "2  A10890051978          MN  TEP CORPS ENTIER    MBPET1    04/01/16   \n",
       "3  A10883861577          MN  TEP CORPS ENTIER    MBPET1    04/01/16   \n",
       "4  A10893853897          MN  TEP CORPS ENTIER    MBPET1    04/01/16   \n",
       "\n",
       "  HEURE_EXAMEN                                       COMPTE_RENDU  year  \\\n",
       "0        08:01  Installation répertoriée sous le n° M540008 Au...    16   \n",
       "1        14:52  Installation répertoriée sous le n° M540008 Au...    16   \n",
       "2        14:44  Installation répertoriée sous le n° M540008 Au...    16   \n",
       "3        11:11  Installation répertoriée sous le n° M540008 Au...    16   \n",
       "4        15:29  Installation répertoriée sous le n° M540008 Au...    16   \n",
       "\n",
       "   month                                              cr_an  \n",
       "0      1  Installation répertoriée sous le n° M540008 Au...  \n",
       "1      1  Installation répertoriée sous le n° M540008 Au...  \n",
       "2      1  Installation répertoriée sous le n° M540008 Au...  \n",
       "3      1  Installation répertoriée sous le n° M540008 Au...  \n",
       "4      1  Installation répertoriée sous le n° M540008 Au...  "
      ]
     },
     "execution_count": 26,
     "metadata": {},
     "output_type": "execute_result"
    }
   ],
   "source": [
    "df = pd.read_csv('data/exports/export_CR_PETCT-01012016_an.csv', sep='\\t', encoding='utf-8')\n",
    "df.info()\n",
    "df.head()"
   ]
  },
  {
   "cell_type": "markdown",
   "metadata": {},
   "source": [
    "# Loading of existing samples"
   ]
  },
  {
   "cell_type": "code",
   "execution_count": 4,
   "metadata": {},
   "outputs": [
    {
     "data": {
      "text/plain": [
       "[\"Hypermétabolisme intense de la région vulvaire très suspect de récidive locale (SUVmax à 9,5 pour une référence hépatique de l'ordre de 3)\",\n",
       " \"Image nodulaire de la loge thymique 15x7x12 mm, aux contours réguliers, discrètement fixante (SUVmax de 2.3)  non retrouvée rétrospectivement sur l'examen  TEP précédent, priori le plus vraisemblablement ganglionnaire\",\n",
       " 'Adénopathies hypermétaboliques lombo-aortiques, iliaques primitives, internes et externes bilatérales avec une cible métabolique en iliaque externe droite (SUVmax à 4.5) sur une lésion de 26x10.5mm dans le plan axial.',\n",
       " \"Epaississement circonférentiel pleural droit et épanchement hypermétabolique (SUVmax à 7,3 pour une référence hépatique à 2,8), de façon diffuse mais hétérogène avec présence de plusieurs nodules hypermétaboliques disséminés sur l'hémichamp pulmonaire droit.\\r\\nAtélectasie lobaire inférieure droite non hypermétabolique.\\r\\nAdénopathies hypermétaboliques pré-trachéale droite, sous-carinaire et hilaire droite, la plus volumineuse pré-trachéale de 15 x 20 mm, la plus hypermétabolique sous-carinaire (SUVmax à 4).\",\n",
       " 'À noter que les deux examens ont été réalisés sur deux TEP différentes (numérique vs analogique), rendant difficile la comparaison des SUVmax']"
      ]
     },
     "execution_count": 4,
     "metadata": {},
     "output_type": "execute_result"
    }
   ],
   "source": [
    "existing_samples = reduce(lambda a, b: a+b, [read_jsonl(path) for path in glob('data/suv/dones/*.jsonl')])\n",
    "existing_samples = [es['text'].strip() for es in existing_samples]\n",
    "existing_samples[:5]"
   ]
  },
  {
   "cell_type": "markdown",
   "metadata": {},
   "source": [
    "# Loading model"
   ]
  },
  {
   "cell_type": "code",
   "execution_count": 6,
   "metadata": {},
   "outputs": [],
   "source": [
    "nlp = Alpha('../middleware/middleware/models').nlp"
   ]
  },
  {
   "cell_type": "markdown",
   "metadata": {},
   "source": [
    "# Making sample"
   ]
  },
  {
   "cell_type": "code",
   "execution_count": 11,
   "metadata": {},
   "outputs": [
    {
     "name": "stdout",
     "output_type": "stream",
     "text": [
      "102/100, 1.02\n"
     ]
    }
   ],
   "source": [
    "seed = 0\n",
    "N = 100\n",
    "MATCHER = re.compile(r'suv', re.I)\n",
    "SECTION = (3, 'obs')\n",
    "RESULT_PATH = 'data/suv/to_annotated/suv_demo.jsonl'\n",
    "\n",
    "new_samples = []\n",
    "random_ids = list(range(len(df)))\n",
    "random.seed(seed)\n",
    "random.shuffle(random_ids)\n",
    "\n",
    "while len(new_samples) < N and len(random_ids) != 0:\n",
    "    cr = df.loc[random_ids.pop(), 'cr_an']\n",
    "    if isinstance(cr, float):\n",
    "        continue\n",
    "    try:\n",
    "        doc = nlp(cr)\n",
    "    except:\n",
    "        pass\n",
    "    \n",
    "    if len(doc._.sections) < SECTION[0] or doc._.sections[SECTION[0]].label_ != SECTION[1]:\n",
    "        continue\n",
    "        \n",
    "    for sent in list(doc._.sections[3].as_doc().sents):\n",
    "        txt = sent.text\n",
    "        if MATCHER.search(txt) != None and txt.strip() not in existing_samples and txt.strip() not in new_samples:\n",
    "            new_samples.append(txt)\n",
    "            \n",
    "    clear_output(wait=True)\n",
    "    print(f'{len(new_samples)}/{N}, {len(new_samples)/N:.2f}')\n",
    "    \n",
    "write_jsonl(RESULT_PATH, [{'text':txt} for txt in new_samples])"
   ]
  },
  {
   "cell_type": "markdown",
   "metadata": {},
   "source": [
    "# Gathering samples"
   ]
  },
  {
   "cell_type": "code",
   "execution_count": 12,
   "metadata": {},
   "outputs": [
    {
     "data": {
      "text/plain": [
       "3001"
      ]
     },
     "execution_count": 12,
     "metadata": {},
     "output_type": "execute_result"
    }
   ],
   "source": [
    "samples = reduce(lambda a, b: a+b, [read_jsonl(path) for path in glob('data/suv/dones/*.jsonl')])\n",
    "len(samples)"
   ]
  },
  {
   "cell_type": "code",
   "execution_count": 13,
   "metadata": {},
   "outputs": [],
   "source": [
    "write_jsonl('data/suv/suv_loc.jsonl', samples)"
   ]
  },
  {
   "cell_type": "markdown",
   "metadata": {},
   "source": [
    "# Explore samples"
   ]
  },
  {
   "cell_type": "markdown",
   "metadata": {},
   "source": [
    "# Make samples"
   ]
  },
  {
   "cell_type": "code",
   "execution_count": 27,
   "metadata": {},
   "outputs": [
    {
     "name": "stdout",
     "output_type": "stream",
     "text": [
      "<class 'pandas.core.frame.DataFrame'>\n",
      "RangeIndex: 200 entries, 0 to 199\n",
      "Data columns (total 7 columns):\n",
      " #   Column          Non-Null Count  Dtype \n",
      "---  ------          --------------  ----- \n",
      " 0   NUMERO_EXAMEN   200 non-null    object\n",
      " 1   TYPE_EXAMEN     200 non-null    object\n",
      " 2   LIBELLE_EXAMEN  200 non-null    object\n",
      " 3   NUM_SALLE       200 non-null    object\n",
      " 4   DATE_EXAMEN     200 non-null    object\n",
      " 5   HEURE_EXAMEN    200 non-null    object\n",
      " 6   COMPTE_RENDU    200 non-null    object\n",
      "dtypes: object(7)\n",
      "memory usage: 11.1+ KB\n"
     ]
    }
   ],
   "source": [
    "df = df.drop(['year', 'month', 'cr_an'], axis=1)\n",
    "df.sort_index(ascending=False)\n",
    "df.loc[0:199].info()"
   ]
  },
  {
   "cell_type": "code",
   "execution_count": 28,
   "metadata": {},
   "outputs": [],
   "source": [
    "df.loc[0:199].to_csv('data/devia/devia_0_199.csv', index=False, encoding='utf-8')\n",
    "df.loc[200:399].to_csv('data/devia/devia_200_399.csv', index=False, encoding='utf-8')\n",
    "df.loc[400:599].to_csv('data/devia/devia_400_599.csv', index=False, encoding='utf-8')\n",
    "df.loc[600:799].to_csv('data/devia/devia_600_799.csv', index=False, encoding='utf-8')\n",
    "df.loc[800:].to_csv('data/devia/devia_800_999.csv', index=False, encoding='utf-8')"
   ]
  },
  {
   "cell_type": "code",
   "execution_count": null,
   "metadata": {},
   "outputs": [],
   "source": []
  }
 ],
 "metadata": {
  "kernelspec": {
   "display_name": "txt",
   "language": "python",
   "name": "txt"
  },
  "language_info": {
   "codemirror_mode": {
    "name": "ipython",
    "version": 3
   },
   "file_extension": ".py",
   "mimetype": "text/x-python",
   "name": "python",
   "nbconvert_exporter": "python",
   "pygments_lexer": "ipython3",
   "version": "3.8.5"
  },
  "latex_envs": {
   "LaTeX_envs_menu_present": true,
   "autoclose": false,
   "autocomplete": true,
   "bibliofile": "biblio.bib",
   "cite_by": "apalike",
   "current_citInitial": 1,
   "eqLabelWithNumbers": true,
   "eqNumInitial": 1,
   "hotkeys": {
    "equation": "Ctrl-E",
    "itemize": "Ctrl-I"
   },
   "labels_anchors": false,
   "latex_user_defs": false,
   "report_style_numbering": false,
   "user_envs_cfg": false
  },
  "toc": {
   "base_numbering": 1,
   "nav_menu": {},
   "number_sections": true,
   "sideBar": true,
   "skip_h1_title": false,
   "title_cell": "Table of Contents",
   "title_sidebar": "Contents",
   "toc_cell": false,
   "toc_position": {},
   "toc_section_display": true,
   "toc_window_display": false
  }
 },
 "nbformat": 4,
 "nbformat_minor": 4
}
