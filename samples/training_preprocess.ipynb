{
 "cells": [
  {
   "cell_type": "code",
   "execution_count": 1,
   "metadata": {
    "ExecuteTime": {
     "end_time": "2021-08-09T17:04:39.592258Z",
     "start_time": "2021-08-09T17:04:39.581254Z"
    }
   },
   "outputs": [],
   "source": [
    "from spacy.tokens import DocBin\n",
    "from pathlib import Path\n",
    "import json\n",
    "import random\n",
    "import spacy"
   ]
  },
  {
   "cell_type": "code",
   "execution_count": 2,
   "metadata": {},
   "outputs": [],
   "source": [
    "def read_jsonl(path, encoding='utf-8'):\n",
    "    path = Path(path) if isinstance(path, str) else path\n",
    "    return [json.loads(line) for line in path.read_text(encoding=encoding).strip().split('\\n')]"
   ]
  },
  {
   "cell_type": "code",
   "execution_count": 3,
   "metadata": {
    "ExecuteTime": {
     "end_time": "2021-08-09T17:04:53.201281Z",
     "start_time": "2021-08-09T17:04:39.595258Z"
    }
   },
   "outputs": [],
   "source": [
    "nlp = spacy.load(\"fr_core_news_lg\")\n",
    "nlp.disable_pipe(\"ner\")"
   ]
  },
  {
   "cell_type": "code",
   "execution_count": 4,
   "metadata": {
    "ExecuteTime": {
     "end_time": "2021-08-09T17:04:53.232254Z",
     "start_time": "2021-08-09T17:04:53.203761Z"
    }
   },
   "outputs": [],
   "source": [
    "data = read_jsonl(\"data/suv/suv_loc.jsonl\",encoding='utf-8')"
   ]
  },
  {
   "cell_type": "code",
   "execution_count": 5,
   "metadata": {
    "ExecuteTime": {
     "end_time": "2021-08-09T17:04:53.898754Z",
     "start_time": "2021-08-09T17:04:53.234763Z"
    }
   },
   "outputs": [
    {
     "data": {
      "text/plain": [
       "cervicaux"
      ]
     },
     "execution_count": 5,
     "metadata": {},
     "output_type": "execute_result"
    }
   ],
   "source": [
    "def ent_parser(doc, ent):\n",
    "    return doc.char_span(ent[0], ent[1], label=ent[2], alignment_mode='contract' )\n",
    "\n",
    "r = random.randint(0, len(data)) - 1\n",
    "ent_parser(nlp(data[r]['text']), data[r][\"labels\"][0])"
   ]
  },
  {
   "cell_type": "code",
   "execution_count": 6,
   "metadata": {
    "ExecuteTime": {
     "end_time": "2021-08-09T17:04:53.929755Z",
     "start_time": "2021-08-09T17:04:53.916760Z"
    }
   },
   "outputs": [],
   "source": [
    "def doccano_to_spacy(data, path, filter_labels=[]):\n",
    "    docbin = DocBin()\n",
    "    for i,item in enumerate(data):\n",
    "        doc = nlp(item['text'])\n",
    "        try:\n",
    "            doc.set_ents([ent_parser(doc, i) for i in item['labels'] if i[2] in filter_labels])\n",
    "            docbin.add(doc)\n",
    "        except Exception as e:\n",
    "            print(e)\n",
    "            print(f\"{item['id']},{i}\")\n",
    "            print([ent_parser(doc, i).__repr__() for i in item['labels']])\n",
    "            print([item['text'][i[0]:i[1]] for i in item['labels']])\n",
    "    docbin.to_disk(f\"{path}.spacy\")"
   ]
  },
  {
   "cell_type": "code",
   "execution_count": 7,
   "metadata": {
    "ExecuteTime": {
     "end_time": "2021-08-09T17:05:16.450754Z",
     "start_time": "2021-08-09T17:04:53.948256Z"
    },
    "scrolled": true
   },
   "outputs": [
    {
     "name": "stdout",
     "output_type": "stream",
     "text": [
      "'NoneType' object has no attribute 'label'\n",
      "4490,305\n",
      "['None', '8,1', '1,7', 'hauteur de la carène']\n",
      "['sophagienne', '8,1', '1,7', 'hauteur de la carène']\n",
      "'NoneType' object has no attribute 'label'\n",
      "4733,553\n",
      "['8,3', '6,2', 'None', 'sous-carinaires']\n",
      "['8,3', '6,2', 'aortique', 'sous-carinaires']\n",
      "'NoneType' object has no attribute 'label'\n",
      "5533,1340\n",
      "['infra et juxtacentimétriques lomboaortiques', 'iliaques communes', '2,8 versus de 3,4', 'rétroaortique', '2', 'None']\n",
      "['infra et juxtacentimétriques lomboaortiques', 'iliaques communes', '2,8 versus de 3,4', 'rétroaortique', '2', 'atéroaortique']\n",
      "'NoneType' object has no attribute 'label'\n",
      "6007,1796\n",
      "['hilaires bilatérales', 'sous-carénaires', '6,5', 'None']\n",
      "['hilaires bilatérales', 'sous-carénaires', '6,5', '10R']\n",
      "'NoneType' object has no attribute 'label'\n",
      "8874,2698\n",
      "['sus-claviculaire bilatérale', 'médiastino-hilaire bilatérale', 'infra médiastinale antérieure droite', 'sus-claviculaire gauche', '18', '2', '2,5', 'sus claviculaire/rétropectoral', '13', '20', 'None']\n",
      "['sus-claviculaire bilatérale', 'médiastino-hilaire bilatérale', ' infra médiastinale antérieure droite', 'sus-claviculaire gauche', '18', '2', '2,5', 'sus claviculaire/rétropectoral', '13', '20', '10L']\n",
      "'NoneType' object has no attribute 'label'\n",
      "9018,2839\n",
      "['médiastino-hilaires bilatérales', 'juxta hilaires bilatéraux', '4,5', '10R', 'None']\n",
      "['médiastino-hilaires bilatérales', 'juxta hilaires bilatéraux', '4,5', '10R', '10L']\n"
     ]
    }
   ],
   "source": [
    "doccano_to_spacy(data,\"data\",[\"OBJ_LOC\"])"
   ]
  },
  {
   "cell_type": "code",
   "execution_count": 8,
   "metadata": {
    "ExecuteTime": {
     "end_time": "2021-08-09T17:04:53.945274Z",
     "start_time": "2021-08-09T17:04:53.932256Z"
    }
   },
   "outputs": [],
   "source": [
    "def split_data(data, ratio=.3, seed=0):\n",
    "    data = list(data) \n",
    "    random.shuffle(data)\n",
    "    n = int(len(data) * ratio)\n",
    "    return data[n:], data[:n]"
   ]
  },
  {
   "cell_type": "code",
   "execution_count": null,
   "metadata": {
    "ExecuteTime": {
     "end_time": "2021-08-09T17:05:37.179256Z",
     "start_time": "2021-08-09T17:05:16.452762Z"
    }
   },
   "outputs": [],
   "source": [
    "exlude_ids=[305,553,874,1340,1796,2698,2839]\n",
    "random.seed = 0\n",
    "filtered_data = [item for i,item in enumerate(data) if i not in exlude_ids ]\n",
    "train, dev = split_data(filtered_data, ratio=.35, seed=0)\n",
    "test, dev = split_data(dev, ratio=.5, seed=0)\n",
    "doccano_to_spacy(dev,\"dev\",[\"OBJ_LOC\"])\n",
    "doccano_to_spacy(train,\"train\",[\"OBJ_LOC\"])\n",
    "doccano_to_spacy(test,\"test\",[\"OBJ_LOC\"])"
   ]
  },
  {
   "cell_type": "code",
   "execution_count": null,
   "metadata": {},
   "outputs": [],
   "source": []
  },
  {
   "cell_type": "code",
   "execution_count": null,
   "metadata": {},
   "outputs": [],
   "source": []
  },
  {
   "cell_type": "code",
   "execution_count": null,
   "metadata": {},
   "outputs": [],
   "source": []
  },
  {
   "cell_type": "code",
   "execution_count": null,
   "metadata": {},
   "outputs": [],
   "source": []
  },
  {
   "cell_type": "code",
   "execution_count": null,
   "metadata": {},
   "outputs": [],
   "source": []
  },
  {
   "cell_type": "code",
   "execution_count": null,
   "metadata": {},
   "outputs": [],
   "source": []
  }
 ],
 "metadata": {
  "kernelspec": {
   "display_name": "txt",
   "language": "python",
   "name": "txt"
  },
  "language_info": {
   "codemirror_mode": {
    "name": "ipython",
    "version": 3
   },
   "file_extension": ".py",
   "mimetype": "text/x-python",
   "name": "python",
   "nbconvert_exporter": "python",
   "pygments_lexer": "ipython3",
   "version": "3.8.5"
  },
  "latex_envs": {
   "LaTeX_envs_menu_present": true,
   "autoclose": false,
   "autocomplete": true,
   "bibliofile": "biblio.bib",
   "cite_by": "apalike",
   "current_citInitial": 1,
   "eqLabelWithNumbers": true,
   "eqNumInitial": 1,
   "hotkeys": {
    "equation": "Ctrl-E",
    "itemize": "Ctrl-I"
   },
   "labels_anchors": false,
   "latex_user_defs": false,
   "report_style_numbering": false,
   "user_envs_cfg": false
  },
  "toc": {
   "base_numbering": 1,
   "nav_menu": {},
   "number_sections": true,
   "sideBar": true,
   "skip_h1_title": false,
   "title_cell": "Table of Contents",
   "title_sidebar": "Contents",
   "toc_cell": false,
   "toc_position": {},
   "toc_section_display": true,
   "toc_window_display": false
  }
 },
 "nbformat": 4,
 "nbformat_minor": 1
}
